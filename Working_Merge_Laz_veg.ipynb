{
  "nbformat": 4,
  "nbformat_minor": 0,
  "metadata": {
    "colab": {
      "provenance": [],
      "authorship_tag": "ABX9TyNQH1idRrEZzWa/YhumPqer",
      "include_colab_link": true
    },
    "kernelspec": {
      "name": "python3",
      "display_name": "Python 3"
    },
    "language_info": {
      "name": "python"
    }
  },
  "cells": [
    {
      "cell_type": "markdown",
      "metadata": {
        "id": "view-in-github",
        "colab_type": "text"
      },
      "source": [
        "<a href=\"https://colab.research.google.com/github/MayerT1/LiDAR/blob/main/Working_Merge_Laz_veg.ipynb\" target=\"_parent\"><img src=\"https://colab.research.google.com/assets/colab-badge.svg\" alt=\"Open In Colab\"/></a>"
      ]
    },
    {
      "cell_type": "code",
      "execution_count": null,
      "metadata": {
        "id": "E3m9QzGIBcmn",
        "colab": {
          "base_uri": "https://localhost:8080/"
        },
        "outputId": "a04ed12d-0d56-441c-da65-b609c39168b6"
      },
      "outputs": [
        {
          "output_type": "stream",
          "name": "stdout",
          "text": [
            "Mounted at /content/drive\n"
          ]
        }
      ],
      "source": [
        "from google.colab import drive\n",
        "drive.mount('/content/drive')"
      ]
    },
    {
      "cell_type": "code",
      "source": [
        "%cd /content/drive/MyDrive/PhD_Main_Folder/Geo_Data"
      ],
      "metadata": {
        "colab": {
          "base_uri": "https://localhost:8080/"
        },
        "id": "KY9vCjv80kQB",
        "outputId": "ac14c683-bb52-45e0-957f-5b008d6e46cd"
      },
      "execution_count": null,
      "outputs": [
        {
          "output_type": "stream",
          "name": "stdout",
          "text": [
            "/content/drive/MyDrive/PhD_Main_Folder/Geo_Data/GEDI_DEV_GUAN\n"
          ]
        }
      ]
    },
    {
      "cell_type": "code",
      "source": [
        "\n",
        "# ################# Transfomr the UTM to DDM\n",
        "\n",
        "# import pandas as pd\n",
        "# from pyproj import Transformer\n",
        "\n",
        "\n",
        "# # df3\n",
        "# lidar_gdf\n",
        "\n",
        "# # # Load your CSV\n",
        "# # df = pd.read_csv(\"your_file.csv\")  # replace with your actual filename\n",
        "\n",
        "# # Initialize the transformer (e.g., UTM Zone 33N to WGS84)\n",
        "# transformer = Transformer.from_crs(\"EPSG:32619\", \"EPSG:4326\", always_xy=True)\n",
        "\n",
        "# # Define a function to convert each row\n",
        "# def convert_coords(row):\n",
        "#     lon, lat = transformer.transform(row['Easting'], row['Northing'])\n",
        "#     return pd.Series({'Latitude_lidar': lat, 'Longitude_lidar': lon})\n",
        "\n",
        "# # Apply the function to each row\n",
        "# lidar_gdf[['Latitude_lidar', 'Longitude_lidar']] = lidar_gdf.apply(convert_coords, axis=1)\n",
        "\n",
        "# # # Save the new DataFrame to a new CSV\n",
        "# # df.to_csv(\"converted_coordinates.csv\", index=False)\n",
        "\n",
        "# # print(\"Conversion complete! Saved to converted_coordinates.csv\")\n",
        "# lidar_gdf\n",
        "\n",
        "# # # Save the new DataFrame to a new CSV\n",
        "# lidar_gdf.to_csv(\"lidar_gdfconverted_coordinat.csv\", index=False)"
      ],
      "metadata": {
        "id": "s3p-2S2HwiNJ"
      },
      "execution_count": null,
      "outputs": []
    },
    {
      "cell_type": "code",
      "source": [
        "import os\n",
        "import laspy\n",
        "import pandas as pd\n",
        "import geopandas as gpd\n",
        "from scipy.stats import spearmanr\n",
        "from shapely.geometry import Point\n",
        "\n",
        "\n",
        "\n",
        "# Define file paths\n",
        "laz_path = \"/content/drive/MyDrive/PhD_Main_Folder/Geo_Data/Neon_PR_Data/GUAN/2018/laz/\" # Update this path\n",
        "# laz_file = os.path.join(laz_path, \"NEON_D04_GUAN_DP1_725000_1985000_classified_point_cloud_colorized.laz\")\n",
        "laz_file = os.path.join(laz_path, \"NEON_D04_GUAN_DP1_727000_1986000_classified_point_cloud_colorized.laz\")\n",
        "\n",
        "veg_file = \"/content/drive/MyDrive/PhD_Main_Folder/Geo_Data/Neon_PR_Data/GUAN/Veg_Field_Data/veg.csv\"  # The uploaded vegetation data file\n",
        "\n",
        "# # Load LiDAR data\n",
        "# las = laspy.read(laz_file)\n",
        "# # lidar_df = pd.DataFrame({\n",
        "# #     \"Easting\": las.x,\n",
        "# #     \"Northing\": las.y,\n",
        "# #     \"Elevation\": las.z,\n",
        "# #     \"Intensity\": las.intensity\n",
        "# # })\n",
        "# # #lidar_df.head()\n",
        "\n",
        "# lidar_df = pd.DataFrame({\n",
        "#     \"Easting\": np.array(las.x),        # Convert ScaledArrayView to NumPy array\n",
        "#     \"Northing\": np.array(las.y),\n",
        "#     \"Lidar_z\": np.array(las.z),\n",
        "#     \"Intensity\": np.array(las.intensity)\n",
        "# })\n",
        "# #lidar_df.head()\n",
        "\n",
        "\n",
        "#\n",
        "#\n",
        "#\n",
        "# Update the transformed the from local\n",
        "#\n",
        "#\n",
        "#\n",
        "\n",
        "#https://drive.google.com/drive/folders/1JeKEirJH6d6ZrRAoYaLHlV_6L8ofMXxt\n",
        "lidar_df = \"/content/drive/MyDrive/PhD_Main_Folder/Geo_Data/converted_coordinates.csv\"  # The uploaded vegetation data file\n",
        "# Load vegetation data\n",
        "lidar_df = pd.read_csv(lidar_df)\n",
        "\n",
        "# Load vegetation data\n",
        "veg_df = pd.read_csv(veg_file)\n",
        "\n",
        "# # Convert LiDAR and Veg data to GeoDataFrames for spatial joining\n",
        "# lidar_gdf = gpd.GeoDataFrame(lidar_df, geometry=gpd.points_from_xy(lidar_df.Easting, lidar_df.Northing))\n",
        "# veg_gdf = gpd.GeoDataFrame(veg_df, geometry=gpd.points_from_xy(veg_df[\"adjEasting\"], veg_df[\"adjNorthing\"]))\n",
        "\n",
        "# Convert LiDAR and Veg data to GeoDataFrames for spatial joining\n",
        "lidar_gdf = gpd.GeoDataFrame(lidar_df, geometry=gpd.points_from_xy(lidar_df[\"Longitude\"], lidar_df[\"Latitude\"]]))\n",
        "veg_gdf = gpd.GeoDataFrame(veg_df, geometry=gpd.points_from_xy(veg_df[\"adjDecimalLongitude\"], veg_df[\"adjDecimalLatitude\"]))\n",
        "\n",
        "\n",
        "# Perform a spatial join to find overlapping LiDAR and vegetation data\n",
        "merged_gdf = gpd.sjoin_nearest(veg_gdf, lidar_gdf, how=\"inner\")  # Adjust distance threshold # max_distance=50000\n",
        "# print(merged_gdf)\n",
        "\n",
        "\n",
        "# Compute correlation between LiDAR elevation and vegetation height\n",
        "if \"height\" in merged_gdf.columns:  # Ensure 'height' exists in the Veg data\n",
        "    correlation, p_value = spearmanr(merged_gdf[\"Lidar_z\"], merged_gdf[\"height\"])\n",
        "    print(f\"Spearman Correlation: {correlation}, p-value: {p_value}\")\n",
        "else:\n",
        "    print(\"No 'height' column found in vegetation data. Check column names.\")\n",
        "\n",
        "# Save merged data for further analysis\n",
        "merged_gdf.to_csv(\"/content/drive/MyDrive/PhD_Main_Folder/Geo_Data/Neon_PR_Data/GUAN/Veg_Field_Data/lidar_veg_correlation.csv\", index=False)\n",
        "print(\"Merged dataset saved as 'lidar_veg_correlation.csv'.\")"
      ],
      "metadata": {
        "id": "2TcIgj0_0f8p"
      },
      "execution_count": null,
      "outputs": []
    }
  ]
}